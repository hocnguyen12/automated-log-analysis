{
 "cells": [
  {
   "cell_type": "markdown",
   "id": "5ab13a79",
   "metadata": {},
   "source": [
    "# Classify Robot Framework Failures into Fix Categories"
   ]
  },
  {
   "cell_type": "markdown",
   "id": "3bc49d90",
   "metadata": {},
   "source": [
    "## Step 1: Load the structured failures JSON file"
   ]
  },
  {
   "cell_type": "code",
   "execution_count": null,
   "id": "bef4d7a5",
   "metadata": {},
   "outputs": [],
   "source": [
    "import json\n",
    "import pandas as pd\n",
    "\n",
    "with open(\"structured_failures.json\", \"r\") as f:\n",
    "    data = json.load(f)"
   ]
  },
  {
   "cell_type": "markdown",
   "id": "a56b1c02",
   "metadata": {},
   "source": [
    "Add example fix categories manually based on error messages\n",
    "\n",
    "You can later update or expand these categories"
   ]
  },
  {
   "cell_type": "code",
   "execution_count": null,
   "id": "0c5337ef",
   "metadata": {},
   "outputs": [
    {
     "name": "stdout",
     "output_type": "stream",
     "text": [
      "[{'test_name': 'Access All Users With Admin Rights', 'error': \"Parent suite setup failed:\\nTypeError: TestObject.__init__() missing 1 required positional argument: 'api_key'\", 'doc': 'Tests if all users can be accessed with Admin User.', 'steps': [], 'fix_category': 'missing_argument'}, {'test_name': 'Create User With Admin Rights', 'error': \"Parent suite setup failed:\\nTypeError: TestObject.__init__() missing 1 required positional argument: 'api_key'\", 'doc': 'Tests if a new users can be created with Admin User.', 'steps': [], 'fix_category': 'missing_argument'}, {'test_name': 'Update User with Admin Rights', 'error': \"Parent suite setup failed:\\nTypeError: TestObject.__init__() missing 1 required positional argument: 'api_key'\", 'doc': 'Changes Password of an existing user.', 'steps': [], 'fix_category': 'missing_argument'}, {'test_name': 'Update Own Password With User Rights', 'error': \"Parent suite setup failed:\\nTypeError: TestObject.__init__() missing 1 required positional argument: 'api_key'\", 'doc': 'Changes Password of an existing user.', 'steps': [], 'fix_category': 'missing_argument'}, {'test_name': 'Access Own Details With User Rights', 'error': \"Parent suite setup failed:\\nTypeError: TestObject.__init__() missing 1 required positional argument: 'api_key'\", 'doc': 'Tests if a user can access own details', 'steps': [], 'fix_category': 'missing_argument'}, {'test_name': 'Access Other Users Details With User Rights', 'error': \"Parent suite setup failed:\\nTypeError: TestObject.__init__() missing 1 required positional argument: 'api_key'\", 'doc': 'Tests does fail, due to insufficiant rights...', 'steps': [], 'fix_category': 'missing_argument'}, {'test_name': 'List Variables unpacked', 'error': \"Keyword 'BuiltIn.Log' expected 1 to 6 arguments, got 26.\", 'doc': '', 'steps': [{'keyword': 'Log To Console', 'args': ['Lists the Alphabeth'], 'status': 'PASS', 'depth': 0, 'doc': 'Logs the given message to the console.', 'messages': []}, {'keyword': 'Log Many', 'args': ['@{LETTERS}'], 'status': 'PASS', 'depth': 0, 'doc': 'Logs the given messages as separate entries using the INFO level.', 'messages': ['a', 'b', 'c', 'd', 'e', 'f', 'g', 'h', 'i', 'j', 'k', 'l', 'm', 'n', 'o', 'p', 'q', 'r', 's', 't', 'u', 'v', 'w', 'x', 'y', 'z']}, {'keyword': 'Log Many', 'args': ['a', 'b', 'c', 'd', 'e', 'f', 'g', 'h', 'i', 'j', 'k', 'l', 'm', 'n', 'o', 'p', 'q', 'r', 's', 't', 'u', 'v', 'w', 'x', 'y', 'z'], 'status': 'PASS', 'depth': 0, 'doc': 'Logs the given messages as separate entries using the INFO level.', 'messages': ['a', 'b', 'c', 'd', 'e', 'f', 'g', 'h', 'i', 'j', 'k', 'l', 'm', 'n', 'o', 'p', 'q', 'r', 's', 't', 'u', 'v', 'w', 'x', 'y', 'z']}, {'keyword': 'Log', 'args': ['${LETTERS}'], 'status': 'PASS', 'depth': 0, 'doc': 'Logs the given message with the given level.', 'messages': [\"['a', 'b', 'c', 'd', 'e', 'f', 'g', 'h', 'i', 'j', 'k', 'l', 'm', 'n', 'o', 'p', 'q', 'r', 's', 't', 'u', 'v', 'w', 'x', 'y', 'z']\"]}, {'keyword': 'Log', 'args': ['@{LETTERS}'], 'status': 'FAIL', 'depth': 0, 'doc': 'Logs the given message with the given level.', 'messages': []}], 'fix_category': 'other'}, {'test_name': 'Test for the year 2022', 'error': '2025 != 2022', 'doc': 'Tests if it is still 2022...', 'steps': [{'keyword': 'Get Current Date', 'args': ['result_format=datetime'], 'status': 'PASS', 'depth': 0, 'doc': 'Returns current local or UTC time with an optional increment.', 'messages': ['${date} = 2025-04-15 11:54:56.518332']}, {'keyword': 'Log', 'args': ['${date}'], 'status': 'PASS', 'depth': 0, 'doc': 'Logs the given message with the given level.', 'messages': ['2025-04-15 11:54:56.518332']}, {'keyword': 'Should Be Equal As Strings', 'args': ['${date.year}', '2022'], 'status': 'FAIL', 'depth': 0, 'doc': 'Fails if objects are unequal after converting them to strings.', 'messages': [\"Argument types are:\\n<class 'int'>\\n<class 'str'>\"]}], 'fix_category': 'other'}, {'test_name': 'Test Case that fails', 'error': 'Sorry. But that was the wrong answer... Bye Bye...', 'doc': '', 'steps': [{'keyword': 'Check Correct Greeting', 'args': ['Hail Our Robot Overlords!'], 'status': 'PASS', 'depth': 0, 'doc': '', 'messages': []}, {'keyword': 'Check Correct Greeting', 'args': ['Hello World!'], 'status': 'FAIL', 'depth': 0, 'doc': '', 'messages': []}], 'fix_category': 'other'}]\n"
     ]
    }
   ],
   "source": [
    "for item in data:\n",
    "    error = item[\"error\"].lower()\n",
    "    if \"missing\" in error and \"argument\" in error:\n",
    "        item[\"fix_category\"] = \"missing_argument\"\n",
    "    elif \"not found\" in error or \"selector\" in error:\n",
    "        item[\"fix_category\"] = \"invalid_selector\"\n",
    "    elif \"assert\" in error or \"should be equal\" in error:\n",
    "        item[\"fix_category\"] = \"assertion_failed\"\n",
    "    elif \"timeout\" in error:\n",
    "        item[\"fix_category\"] = \"timeout\"\n",
    "    elif \"connection\" in error:\n",
    "        item[\"fix_category\"] = \"connection_error\"\n",
    "    else:\n",
    "        item[\"fix_category\"] = \"other\"\n",
    "\n",
    "print(data)"
   ]
  },
  {
   "cell_type": "markdown",
   "id": "41124e1b",
   "metadata": {},
   "source": [
    "Convert to DataFrame"
   ]
  },
  {
   "cell_type": "code",
   "execution_count": 45,
   "id": "d3429da6",
   "metadata": {},
   "outputs": [
    {
     "name": "stdout",
     "output_type": "stream",
     "text": [
      "\u001b[1mExample log text :\u001b[0m\n",
      "{'test_name': 'Test Case that fails', 'log_text': 'Error: Sorry. But that was the wrong answer... Bye Bye...\\nStep: Check Correct Greeting\\nArgs: Hail Our Robot Overlords!\\nStep: Check Correct Greeting\\nArgs: Hello World!\\n', 'fix_category': 'other'}\n"
     ]
    },
    {
     "data": {
      "text/html": [
       "<div>\n",
       "<style scoped>\n",
       "    .dataframe tbody tr th:only-of-type {\n",
       "        vertical-align: middle;\n",
       "    }\n",
       "\n",
       "    .dataframe tbody tr th {\n",
       "        vertical-align: top;\n",
       "    }\n",
       "\n",
       "    .dataframe thead th {\n",
       "        text-align: right;\n",
       "    }\n",
       "</style>\n",
       "<table border=\"1\" class=\"dataframe\">\n",
       "  <thead>\n",
       "    <tr style=\"text-align: right;\">\n",
       "      <th></th>\n",
       "      <th>test_name</th>\n",
       "      <th>log_text</th>\n",
       "      <th>fix_category</th>\n",
       "    </tr>\n",
       "  </thead>\n",
       "  <tbody>\n",
       "    <tr>\n",
       "      <th>0</th>\n",
       "      <td>Access All Users With Admin Rights</td>\n",
       "      <td>Error: Parent suite setup failed:\\nTypeError: ...</td>\n",
       "      <td>missing_argument</td>\n",
       "    </tr>\n",
       "    <tr>\n",
       "      <th>1</th>\n",
       "      <td>Create User With Admin Rights</td>\n",
       "      <td>Error: Parent suite setup failed:\\nTypeError: ...</td>\n",
       "      <td>missing_argument</td>\n",
       "    </tr>\n",
       "    <tr>\n",
       "      <th>2</th>\n",
       "      <td>Update User with Admin Rights</td>\n",
       "      <td>Error: Parent suite setup failed:\\nTypeError: ...</td>\n",
       "      <td>missing_argument</td>\n",
       "    </tr>\n",
       "    <tr>\n",
       "      <th>3</th>\n",
       "      <td>Update Own Password With User Rights</td>\n",
       "      <td>Error: Parent suite setup failed:\\nTypeError: ...</td>\n",
       "      <td>missing_argument</td>\n",
       "    </tr>\n",
       "    <tr>\n",
       "      <th>4</th>\n",
       "      <td>Access Own Details With User Rights</td>\n",
       "      <td>Error: Parent suite setup failed:\\nTypeError: ...</td>\n",
       "      <td>missing_argument</td>\n",
       "    </tr>\n",
       "    <tr>\n",
       "      <th>5</th>\n",
       "      <td>Access Other Users Details With User Rights</td>\n",
       "      <td>Error: Parent suite setup failed:\\nTypeError: ...</td>\n",
       "      <td>missing_argument</td>\n",
       "    </tr>\n",
       "    <tr>\n",
       "      <th>6</th>\n",
       "      <td>List Variables unpacked</td>\n",
       "      <td>Error: Keyword 'BuiltIn.Log' expected 1 to 6 a...</td>\n",
       "      <td>other</td>\n",
       "    </tr>\n",
       "    <tr>\n",
       "      <th>7</th>\n",
       "      <td>Test for the year 2022</td>\n",
       "      <td>Error: 2025 != 2022\\nStep: Get Current Date\\nA...</td>\n",
       "      <td>other</td>\n",
       "    </tr>\n",
       "    <tr>\n",
       "      <th>8</th>\n",
       "      <td>Test Case that fails</td>\n",
       "      <td>Error: Sorry. But that was the wrong answer......</td>\n",
       "      <td>other</td>\n",
       "    </tr>\n",
       "  </tbody>\n",
       "</table>\n",
       "</div>"
      ],
      "text/plain": [
       "                                     test_name  \\\n",
       "0           Access All Users With Admin Rights   \n",
       "1                Create User With Admin Rights   \n",
       "2                Update User with Admin Rights   \n",
       "3         Update Own Password With User Rights   \n",
       "4          Access Own Details With User Rights   \n",
       "5  Access Other Users Details With User Rights   \n",
       "6                      List Variables unpacked   \n",
       "7                       Test for the year 2022   \n",
       "8                         Test Case that fails   \n",
       "\n",
       "                                            log_text      fix_category  \n",
       "0  Error: Parent suite setup failed:\\nTypeError: ...  missing_argument  \n",
       "1  Error: Parent suite setup failed:\\nTypeError: ...  missing_argument  \n",
       "2  Error: Parent suite setup failed:\\nTypeError: ...  missing_argument  \n",
       "3  Error: Parent suite setup failed:\\nTypeError: ...  missing_argument  \n",
       "4  Error: Parent suite setup failed:\\nTypeError: ...  missing_argument  \n",
       "5  Error: Parent suite setup failed:\\nTypeError: ...  missing_argument  \n",
       "6  Error: Keyword 'BuiltIn.Log' expected 1 to 6 a...             other  \n",
       "7  Error: 2025 != 2022\\nStep: Get Current Date\\nA...             other  \n",
       "8  Error: Sorry. But that was the wrong answer......             other  "
      ]
     },
     "execution_count": 45,
     "metadata": {},
     "output_type": "execute_result"
    }
   ],
   "source": [
    "records = []\n",
    "for item in data:\n",
    "    msg = f\"Error: {item['error']}\\n\"\n",
    "    for step in item.get(\"steps\", []):\n",
    "        msg += f\"Step: {step['keyword']}\\n\"\n",
    "        msg += f\"Args: {' '.join(step['args'])}\\n\"\n",
    "        if step.get(\"doc\"):\n",
    "            msg += f\"Doc: {step['doc']}\\n\"\n",
    "        if step.get(\"messages\"):\n",
    "            msg += f\"Messages: {' | '.join(step['messages'])}\\n\"\n",
    "    records.append({\n",
    "        \"test_name\": item[\"test_name\"],\n",
    "        \"log_text\": msg,\n",
    "        \"fix_category\": item[\"fix_category\"]\n",
    "    })\n",
    "\n",
    "#print(records)\n",
    "print('\\033[1m' + \"Example log text :\" + '\\033[0m')\n",
    "print(records[len(records) - 1])\n",
    "\n",
    "df = pd.DataFrame(records)\n",
    "df.head(len(df))"
   ]
  },
  {
   "cell_type": "markdown",
   "id": "5b9882d8",
   "metadata": {},
   "source": [
    "## Step 2: Embed the logs using TF-IDF"
   ]
  },
  {
   "cell_type": "code",
   "execution_count": null,
   "id": "bbd17a18",
   "metadata": {},
   "outputs": [],
   "source": [
    "from sklearn.feature_extraction.text import TfidfVectorizer\n",
    "\n",
    "vectorizer = TfidfVectorizer(max_features=500, stop_words=\"english\")\n",
    "X = vectorizer.fit_transform(df[\"log_text\"])\n",
    "y = df[\"fix_category\"]"
   ]
  },
  {
   "cell_type": "markdown",
   "id": "aadc412c",
   "metadata": {},
   "source": [
    "## Step 3: Train/test split + classifier training"
   ]
  },
  {
   "cell_type": "code",
   "execution_count": null,
   "id": "f461c040",
   "metadata": {},
   "outputs": [],
   "source": [
    "from sklearn.model_selection import train_test_split\n",
    "from sklearn.ensemble import RandomForestClassifier\n",
    "from sklearn.metrics import classification_report, confusion_matrix\n",
    "\n",
    "X_train, X_test, y_train, y_test = train_test_split(X, y, test_size=0.2, random_state=42)\n",
    "\n",
    "clf = RandomForestClassifier()\n",
    "clf.fit(X_train, y_train)\n",
    "y_pred = clf.predict(X_test)"
   ]
  },
  {
   "cell_type": "markdown",
   "id": "b5bcd5d4",
   "metadata": {},
   "source": [
    "## Step 4: Evaluate"
   ]
  },
  {
   "cell_type": "code",
   "execution_count": null,
   "id": "45f496e1",
   "metadata": {},
   "outputs": [
    {
     "name": "stdout",
     "output_type": "stream",
     "text": [
      "\n",
      "Classification Report:\n",
      "\n",
      "                  precision    recall  f1-score   support\n",
      "\n",
      "missing_argument       1.00      1.00      1.00         1\n",
      "           other       1.00      1.00      1.00         1\n",
      "\n",
      "        accuracy                           1.00         2\n",
      "       macro avg       1.00      1.00      1.00         2\n",
      "    weighted avg       1.00      1.00      1.00         2\n",
      "\n",
      "\n",
      "Confusion Matrix:\n",
      "\n",
      "[[1 0]\n",
      " [0 1]]\n"
     ]
    }
   ],
   "source": [
    "print(\"\\nClassification Report:\\n\")\n",
    "print(classification_report(y_test, y_pred))\n",
    "\n",
    "print(\"\\nConfusion Matrix:\\n\")\n",
    "print(confusion_matrix(y_test, y_pred))"
   ]
  },
  {
   "cell_type": "markdown",
   "id": "11f90a8e",
   "metadata": {},
   "source": [
    "## Step 5: Predict new failure"
   ]
  },
  {
   "cell_type": "code",
   "execution_count": null,
   "id": "5d3d2785",
   "metadata": {},
   "outputs": [
    {
     "name": "stdout",
     "output_type": "stream",
     "text": [
      "\u001b[1mNew log text :\n",
      "\u001b[0mTest name: Connect without API key\n",
      "Doc: Attempts to connect to the server without providing API key.\n",
      "Error: TypeError: TestObject.__init__() missing 1 required positional argument: 'api_key'\n",
      "Step: Connect\n",
      "Args: http://localhost\n",
      "Status: FAIL\n",
      "Doc: Connects to backend server using TestObject\n",
      "Messages: Connecting to http://localhost | Exception raised: missing 'api_key'\n",
      "\n",
      "Prediction: missing_argument\n"
     ]
    }
   ],
   "source": [
    "new_data = {\n",
    "    \"test_name\": \"Connect without API key\",\n",
    "    \"error\": \"TypeError: TestObject.__init__() missing 1 required positional argument: 'api_key'\",\n",
    "    \"doc\": \"Attempts to connect to the server without providing API key.\",\n",
    "    \"steps\": [\n",
    "        {\n",
    "            \"keyword\": \"Connect\",\n",
    "            \"args\": [\"http://localhost\"],\n",
    "            \"status\": \"FAIL\",\n",
    "            \"depth\": 0,\n",
    "            \"doc\": \"Connects to backend server using TestObject\",\n",
    "            \"messages\": [\"Connecting to http://localhost\", \"Exception raised: missing 'api_key'\"]\n",
    "        }\n",
    "    ]\n",
    "}\n",
    "\n",
    "log_text = f\"Test name: {new_data['test_name']}\\n\"\n",
    "log_text += f\"Doc: {new_data['doc']}\\n\"\n",
    "log_text += f\"Error: {new_data['error']}\\n\"\n",
    "for step in new_data[\"steps\"]:\n",
    "    log_text += f\"Step: {step['keyword']}\\n\"\n",
    "    log_text += f\"Args: {' '.join(step['args'])}\\n\"\n",
    "    log_text += f\"Status: {step['status']}\\n\"\n",
    "    if step.get(\"doc\"):\n",
    "        log_text += f\"Doc: {step['doc']}\\n\"\n",
    "    if step.get(\"messages\"):\n",
    "        log_text += f\"Messages: {' | '.join(step['messages'])}\\n\"\n",
    "\n",
    "print('\\033[1m' + \"New log text :\\n\" + '\\033[0m' + log_text)\n",
    "\n",
    "new_vec = vectorizer.transform([log_text])\n",
    "pred = clf.predict(new_vec)\n",
    "print(\"Prediction:\", pred[0])"
   ]
  },
  {
   "cell_type": "code",
   "execution_count": null,
   "id": "6a9f7a14",
   "metadata": {},
   "outputs": [],
   "source": []
  }
 ],
 "metadata": {
  "kernelspec": {
   "display_name": "Python 3",
   "language": "python",
   "name": "python3"
  },
  "language_info": {
   "codemirror_mode": {
    "name": "ipython",
    "version": 3
   },
   "file_extension": ".py",
   "mimetype": "text/x-python",
   "name": "python",
   "nbconvert_exporter": "python",
   "pygments_lexer": "ipython3",
   "version": "3.10.12"
  }
 },
 "nbformat": 4,
 "nbformat_minor": 5
}
